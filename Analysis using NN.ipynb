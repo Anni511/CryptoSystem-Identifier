{
 "cells": [
  {
   "cell_type": "markdown",
   "metadata": {},
   "source": [
    "# Importing Libraries\n"
   ]
  },
  {
   "cell_type": "code",
   "execution_count": 1,
   "metadata": {
    "collapsed": true
   },
   "outputs": [],
   "source": [
    "%matplotlib inline\n",
    "\n",
    "import pandas as pd\n",
    "import numpy as np\n",
    "from sklearn.model_selection import train_test_split\n",
    "from sklearn.feature_extraction.text import TfidfVectorizer, CountVectorizer\n",
    "import tensorflow as tf\n",
    "import matplotlib.pyplot as plt\n",
    "from tensorflow.python.framework import ops\n",
    "from sklearn.metrics import classification_report, confusion_matrix\n",
    "plt.style.use('fivethirtyeight') "
   ]
  },
  {
   "cell_type": "markdown",
   "metadata": {},
   "source": [
    "# Data Loading and Preprocessing"
   ]
  },
  {
   "cell_type": "code",
   "execution_count": 2,
   "metadata": {},
   "outputs": [
    {
     "data": {
      "text/html": [
       "<div>\n",
       "<style scoped>\n",
       "    .dataframe tbody tr th:only-of-type {\n",
       "        vertical-align: middle;\n",
       "    }\n",
       "\n",
       "    .dataframe tbody tr th {\n",
       "        vertical-align: top;\n",
       "    }\n",
       "\n",
       "    .dataframe thead th {\n",
       "        text-align: right;\n",
       "    }\n",
       "</style>\n",
       "<table border=\"1\" class=\"dataframe\">\n",
       "  <thead>\n",
       "    <tr style=\"text-align: right;\">\n",
       "      <th></th>\n",
       "      <th>Cryptogram</th>\n",
       "      <th>Label</th>\n",
       "    </tr>\n",
       "  </thead>\n",
       "  <tbody>\n",
       "    <tr>\n",
       "      <th>0</th>\n",
       "      <td>JHZUYYH OL H LDHP LRLDUT CB BCAP LDHPL OE DSU ...</td>\n",
       "      <td>0</td>\n",
       "    </tr>\n",
       "    <tr>\n",
       "      <th>1</th>\n",
       "      <td>DSU HFU CB PUHLCE KUOEF HE OEVULDOFHDOCE CB DP...</td>\n",
       "      <td>0</td>\n",
       "    </tr>\n",
       "    <tr>\n",
       "      <th>2</th>\n",
       "      <td>DSU TCLD OTZCPDHED ZCLODOCE DSHD AEODUX DSU UH...</td>\n",
       "      <td>0</td>\n",
       "    </tr>\n",
       "    <tr>\n",
       "      <th>3</th>\n",
       "      <td>MECIE EUCL OEJYAXU TCPU DSHE LUVUEDUUE DSCALHE...</td>\n",
       "      <td>0</td>\n",
       "    </tr>\n",
       "    <tr>\n",
       "      <th>4</th>\n",
       "      <td>ISUE H EUC OL XUDUJDUX YOMU HYY CDSUP LTHYY LC...</td>\n",
       "      <td>0</td>\n",
       "    </tr>\n",
       "  </tbody>\n",
       "</table>\n",
       "</div>"
      ],
      "text/plain": [
       "                                          Cryptogram  Label\n",
       "0  JHZUYYH OL H LDHP LRLDUT CB BCAP LDHPL OE DSU ...      0\n",
       "1  DSU HFU CB PUHLCE KUOEF HE OEVULDOFHDOCE CB DP...      0\n",
       "2  DSU TCLD OTZCPDHED ZCLODOCE DSHD AEODUX DSU UH...      0\n",
       "3  MECIE EUCL OEJYAXU TCPU DSHE LUVUEDUUE DSCALHE...      0\n",
       "4  ISUE H EUC OL XUDUJDUX YOMU HYY CDSUP LTHYY LC...      0"
      ]
     },
     "execution_count": 2,
     "metadata": {},
     "output_type": "execute_result"
    }
   ],
   "source": [
    "df  = pd.read_csv(\"Crypto_Data.csv\")\n",
    "df.head()"
   ]
  },
  {
   "cell_type": "code",
   "execution_count": 3,
   "metadata": {
    "collapsed": true
   },
   "outputs": [],
   "source": [
    "# Label 0 : Simple Substitution\n",
    "# Label 1 : Vignere\n",
    "label = np.array(df.Label)\n",
    "label = label.reshape([100, 1])\n",
    "cv = CountVectorizer(max_features=500)\n",
    "train = cv.fit_transform(df.Cryptogram).toarray()\n"
   ]
  },
  {
   "cell_type": "code",
   "execution_count": 4,
   "metadata": {},
   "outputs": [
    {
     "name": "stdout",
     "output_type": "stream",
     "text": [
      "Shape of training features:  (500, 90)\n",
      "Shape pf training labels:  (1, 90)\n",
      "Shape of validation features:  (500, 10)\n",
      "Shape of validation labels:  (1, 10)\n"
     ]
    }
   ],
   "source": [
    "X_train, X_val, Y_train, Y_val = train_test_split(train, label, test_size = 0.1)\n",
    "X_train = X_train.T\n",
    "Y_train = Y_train.T\n",
    "X_val = X_val.T\n",
    "Y_val = Y_val.T\n",
    "#Shape format : \n",
    "#For x: (No. of features, No. of samples)\n",
    "#For y: (Label, No. of samples)\n",
    "print(\"Shape of training features: \", X_train.shape)\n",
    "print(\"Shape pf training labels: \", Y_train.shape)\n",
    "print(\"Shape of validation features: \", X_val.shape)\n",
    "print(\"Shape of validation labels: \", Y_val.shape)"
   ]
  },
  {
   "cell_type": "markdown",
   "metadata": {},
   "source": [
    "# Creating Model"
   ]
  },
  {
   "cell_type": "markdown",
   "metadata": {},
   "source": [
    "### Initializing parameters:"
   ]
  },
  {
   "cell_type": "code",
   "execution_count": 5,
   "metadata": {
    "collapsed": true
   },
   "outputs": [],
   "source": [
    "def shape_of_parameters(W1_shape, b1_shape, W2_shape, b2_shape, W3_shape, b3_shape):\n",
    "    parameters_shape = {}\n",
    "    parameters_shape[\"W1_shape\"] = W1_shape\n",
    "    parameters_shape[\"b1_shape\"] = b1_shape\n",
    "    parameters_shape[\"W2_shape\"] = W2_shape\n",
    "    parameters_shape[\"b2_shape\"] = b2_shape\n",
    "    parameters_shape[\"W3_shape\"] = W3_shape\n",
    "    parameters_shape[\"b3_shape\"] = b3_shape\n",
    "    return parameters_shape   "
   ]
  },
  {
   "cell_type": "code",
   "execution_count": 6,
   "metadata": {
    "collapsed": true
   },
   "outputs": [],
   "source": [
    "def initialize_parameters(W1_shape, b1_shape, W2_shape, b2_shape, W3_shape, b3_shape):\n",
    "    W1 = tf.get_variable(\"W1\", shape = W1_shape, initializer = tf.contrib.layers.xavier_initializer())\n",
    "    b1 = tf.get_variable(\"b1\", shape = b1_shape, initializer = tf.zeros_initializer())\n",
    "    W2 = tf.get_variable(\"W2\", shape = W2_shape, initializer = tf.contrib.layers.xavier_initializer())\n",
    "    b2 = tf.get_variable(\"b2\", shape = b2_shape, initializer = tf.zeros_initializer())\n",
    "    W3 = tf.get_variable(\"W3\", shape = W3_shape, initializer = tf.contrib.layers.xavier_initializer())\n",
    "    b3 = tf.get_variable(\"b3\", shape = b3_shape, initializer = tf.zeros_initializer())\n",
    "    parameters = {\"W1\": W1,\n",
    "                  \"b1\": b1,\n",
    "                  \"W2\": W2,\n",
    "                  \"b2\": b2,\n",
    "                  \"W3\": W3,\n",
    "                  \"b3\": b3\n",
    "                 }\n",
    "    return parameters   "
   ]
  },
  {
   "cell_type": "markdown",
   "metadata": {},
   "source": [
    "###  One step of Forward propagation:"
   ]
  },
  {
   "cell_type": "code",
   "execution_count": 7,
   "metadata": {
    "collapsed": true
   },
   "outputs": [],
   "source": [
    "def forward_propagation(X, parameters):\n",
    "    W1 = parameters['W1']\n",
    "    b1 = parameters['b1']\n",
    "    W2 = parameters['W2']\n",
    "    b2 = parameters['b2']\n",
    "    W3 = parameters['W3']\n",
    "    b3 = parameters['b3']\n",
    "    \n",
    "    Z1 = tf.add(tf.matmul(W1, X), b1)                                           \n",
    "    A1 = tf.nn.relu(Z1)                                              \n",
    "    Z2 = tf.add(tf.matmul(W2, A1), b2)                                          \n",
    "    A2 = tf.nn.relu(Z2)                                         \n",
    "    Z3 = tf.add(tf.matmul(W3, A2), b3)   \n",
    "    return Z3"
   ]
  },
  {
   "cell_type": "markdown",
   "metadata": {},
   "source": [
    "### Computing cross-entropy loss:"
   ]
  },
  {
   "cell_type": "code",
   "execution_count": 8,
   "metadata": {
    "collapsed": true
   },
   "outputs": [],
   "source": [
    "costs = {}     #Dictionary of costs for all the three models\n",
    "def compute_cost(Z3, Y, parameters):\n",
    "\n",
    "    # to fit the tensorflow requirement for tf.nn.sigmoid_cross_entropy_with_logits(...,...)\n",
    "    logits = tf.transpose(Z3)\n",
    "    labels = tf.transpose(Y)\n",
    "    \n",
    "    cost = tf.reduce_mean(tf.nn.sigmoid_cross_entropy_with_logits(logits = logits, labels = labels))\n",
    "\n",
    "    return cost"
   ]
  },
  {
   "cell_type": "markdown",
   "metadata": {},
   "source": [
    "## Defining Model:"
   ]
  },
  {
   "cell_type": "code",
   "execution_count": 9,
   "metadata": {
    "collapsed": true
   },
   "outputs": [],
   "source": [
    "def model(parameters_shape, X_train, Y_train, learning_rate = 0.001, num_epochs = 50):\n",
    "    ops.reset_default_graph()                         # to be able to rerun the model without overwriting tf variables\n",
    "    X = tf.placeholder(tf.float32, [500, None])\n",
    "    Y = tf.placeholder(tf.float32, [1, None])\n",
    "    (n_x, m) = X_train.shape                    \n",
    "    n_y = 1                                          #either 0 or 1\n",
    "    model_cost = []\n",
    "    #Initializing parameters\n",
    "    W1_shape = parameters_shape[\"W1_shape\"]\n",
    "    b1_shape = parameters_shape[\"b1_shape\"]\n",
    "    W2_shape = parameters_shape[\"W2_shape\"]\n",
    "    b2_shape = parameters_shape[\"b2_shape\"]\n",
    "    W3_shape = parameters_shape[\"W3_shape\"]\n",
    "    b3_shape = parameters_shape[\"b3_shape\"]\n",
    "    parameters = initialize_parameters(W1_shape, b1_shape, W2_shape, b2_shape, W3_shape, b3_shape)\n",
    "    \n",
    "    \n",
    "    Z3 = forward_propagation(X, parameters)\n",
    "    cost = compute_cost(Z3, Y, parameters)\n",
    "    #Backpropagation:\n",
    "    optimizer =  tf.train.AdamOptimizer(learning_rate = learning_rate).minimize(cost)\n",
    "    \n",
    "    init = tf.global_variables_initializer()\n",
    "    with tf.Session() as sess:\n",
    "        sess.run(init)\n",
    "        for epoch in range(num_epochs):\n",
    "\n",
    "            _ , epoch_cost = sess.run([optimizer, cost], feed_dict={X: X_train, Y: Y_train})\n",
    "            model_cost.append(epoch_cost)\n",
    "\n",
    "            # Print the cost every 5th epoch\n",
    "            if(epoch%5 == 0):\n",
    "                print (\"Cost after epoch %i: %f\" % (epoch, epoch_cost))\n",
    "\n",
    "        #save the parameters in a variable\n",
    "        parameters = sess.run(parameters)\n",
    "        print (\"Parameters have been trained!\")\n",
    "        return model_cost, parameters"
   ]
  },
  {
   "cell_type": "code",
   "execution_count": 10,
   "metadata": {},
   "outputs": [
    {
     "name": "stdout",
     "output_type": "stream",
     "text": [
      "Cost after epoch 0: 0.739604\n",
      "Cost after epoch 5: 0.537911\n",
      "Cost after epoch 10: 0.388072\n",
      "Cost after epoch 15: 0.262833\n",
      "Cost after epoch 20: 0.162931\n",
      "Cost after epoch 25: 0.091631\n",
      "Cost after epoch 30: 0.047283\n",
      "Cost after epoch 35: 0.023705\n",
      "Cost after epoch 40: 0.012425\n",
      "Cost after epoch 45: 0.007102\n",
      "Parameters have been trained!\n"
     ]
    }
   ],
   "source": [
    "parameters_shape = shape_of_parameters((128, 500), (128, 1), (64, 128), (64, 1), (1, 64), (1, 1))\n",
    "model_cost, parameters = model(parameters_shape, X_train, Y_train)\n",
    "costs[\"model1\"] = model_cost"
   ]
  },
  {
   "cell_type": "markdown",
   "metadata": {},
   "source": [
    "# Predicting the labels"
   ]
  },
  {
   "cell_type": "markdown",
   "metadata": {},
   "source": [
    "### Utility functions for prediction:"
   ]
  },
  {
   "cell_type": "code",
   "execution_count": 11,
   "metadata": {
    "collapsed": true
   },
   "outputs": [],
   "source": [
    "def  forward_propagation_for_predict(X, parameters):\n",
    "    W1 = parameters['W1']\n",
    "    b1 = parameters['b1']\n",
    "    W2 = parameters['W2']\n",
    "    b2 = parameters['b2']\n",
    "    W3 = parameters['W3']\n",
    "    b3 = parameters['b3']\n",
    "    Z1 = tf.add(tf.matmul(W1, X), b1)                                           \n",
    "    A1 = tf.nn.relu(Z1)                                              \n",
    "    Z2 = tf.add(tf.matmul(W2, A1), b2)                                          \n",
    "    A2 = tf.nn.relu(Z2)                                         \n",
    "    Z3 = tf.add(tf.matmul(W3, A2), b3)   \n",
    "    return Z3\n",
    "\n",
    "def predict(X, parameters):\n",
    "    W1 = tf.convert_to_tensor(parameters[\"W1\"])\n",
    "    b1 = tf.convert_to_tensor(parameters[\"b1\"])\n",
    "    W2 = tf.convert_to_tensor(parameters[\"W2\"])\n",
    "    b2 = tf.convert_to_tensor(parameters[\"b2\"])\n",
    "    W3 = tf.convert_to_tensor(parameters[\"W3\"])\n",
    "    b3 = tf.convert_to_tensor(parameters[\"b3\"])\n",
    "    params = {\"W1\": W1,\n",
    "              \"b1\": b1,\n",
    "              \"W2\": W2,\n",
    "              \"b2\": b2,\n",
    "              \"W3\": W3,\n",
    "              \"b3\": b3\n",
    "             }\n",
    "    x = tf.placeholder(\"float\", [500, None])\n",
    "    Z3 = forward_propagation_for_predict(x, params)\n",
    "    p = tf.round(tf.sigmoid(Z3))\n",
    "    sess = tf.Session()\n",
    "    predictions = sess.run(p, feed_dict = {x: X})\n",
    "    return predictions\n",
    "\n",
    "def print_prediction(predictions, label, data_type): \n",
    "    predictions = np.squeeze(predictions)\n",
    "    for i in range(len(predictions)):\n",
    "        print(\"Predicted value: {}, Actual value: {}\".format(predictions[i], label[i]))\n",
    "    accuracy = np.mean(np.equal(predictions, label))\n",
    "    print(\"Accuracy on {} set: {}\".format(data_type, accuracy))\n",
    "    "
   ]
  },
  {
   "cell_type": "markdown",
   "metadata": {},
   "source": [
    "## Accuracy on training set:"
   ]
  },
  {
   "cell_type": "code",
   "execution_count": 12,
   "metadata": {},
   "outputs": [
    {
     "name": "stdout",
     "output_type": "stream",
     "text": [
      "Accuracy on training set: 1.0\n"
     ]
    }
   ],
   "source": [
    "predictions = predict(X_train, parameters)\n",
    "predictions = np.squeeze(predictions)\n",
    "accuracy = np.mean(np.equal(predictions, Y_train))\n",
    "print(\"Accuracy on training set:\", accuracy)"
   ]
  },
  {
   "cell_type": "markdown",
   "metadata": {},
   "source": [
    "## Predictions and Accuracy on validation set:"
   ]
  },
  {
   "cell_type": "code",
   "execution_count": 13,
   "metadata": {},
   "outputs": [
    {
     "name": "stdout",
     "output_type": "stream",
     "text": [
      "Predicted value: 0.0, Actual value: 0\n",
      "Predicted value: 0.0, Actual value: 0\n",
      "Predicted value: 1.0, Actual value: 1\n",
      "Predicted value: 0.0, Actual value: 0\n",
      "Predicted value: 0.0, Actual value: 0\n",
      "Predicted value: 1.0, Actual value: 1\n",
      "Predicted value: 0.0, Actual value: 0\n",
      "Predicted value: 1.0, Actual value: 1\n",
      "Predicted value: 1.0, Actual value: 1\n",
      "Predicted value: 1.0, Actual value: 1\n",
      "Accuracy on Validation set: 1.0\n"
     ]
    }
   ],
   "source": [
    "predictions = predict(X_val, parameters)\n",
    "Y_val = np.squeeze(Y_val)\n",
    "print_prediction(predictions, Y_val, 'Validation')"
   ]
  },
  {
   "cell_type": "markdown",
   "metadata": {},
   "source": [
    "## Loading and Preprocessing Test set:"
   ]
  },
  {
   "cell_type": "code",
   "execution_count": 14,
   "metadata": {},
   "outputs": [
    {
     "name": "stdout",
     "output_type": "stream",
     "text": [
      "Number of test examples :  20\n"
     ]
    }
   ],
   "source": [
    "df_test = pd.read_csv(\"Crypto_Test.csv\")\n",
    "df_test.head()\n",
    "test = cv.transform(df_test.Cryptogram).toarray().T\n",
    "test_target = df_test.Label\n",
    "print(\"Number of test examples : \", test.shape[1])"
   ]
  },
  {
   "cell_type": "markdown",
   "metadata": {
    "collapsed": true
   },
   "source": [
    "## Predictions and Accuracy on Test set:"
   ]
  },
  {
   "cell_type": "code",
   "execution_count": 15,
   "metadata": {
    "scrolled": true
   },
   "outputs": [
    {
     "name": "stdout",
     "output_type": "stream",
     "text": [
      "Predicted value: 1.0, Actual value: 1\n",
      "Predicted value: 1.0, Actual value: 1\n",
      "Predicted value: 1.0, Actual value: 1\n",
      "Predicted value: 0.0, Actual value: 1\n",
      "Predicted value: 1.0, Actual value: 1\n",
      "Predicted value: 1.0, Actual value: 1\n",
      "Predicted value: 1.0, Actual value: 1\n",
      "Predicted value: 1.0, Actual value: 1\n",
      "Predicted value: 1.0, Actual value: 1\n",
      "Predicted value: 1.0, Actual value: 1\n",
      "Predicted value: 0.0, Actual value: 0\n",
      "Predicted value: 0.0, Actual value: 0\n",
      "Predicted value: 0.0, Actual value: 0\n",
      "Predicted value: 0.0, Actual value: 0\n",
      "Predicted value: 0.0, Actual value: 0\n",
      "Predicted value: 0.0, Actual value: 0\n",
      "Predicted value: 0.0, Actual value: 0\n",
      "Predicted value: 0.0, Actual value: 0\n",
      "Predicted value: 0.0, Actual value: 0\n",
      "Predicted value: 0.0, Actual value: 0\n",
      "Accuracy on Test set: 0.95\n"
     ]
    }
   ],
   "source": [
    "predictions = predict(test, parameters)\n",
    "print_prediction(predictions, test_target, 'Test')\n"
   ]
  },
  {
   "cell_type": "markdown",
   "metadata": {},
   "source": [
    "## Classification report on Test Set:"
   ]
  },
  {
   "cell_type": "code",
   "execution_count": 16,
   "metadata": {},
   "outputs": [
    {
     "name": "stdout",
     "output_type": "stream",
     "text": [
      "Classification report: \n",
      "             precision    recall  f1-score   support\n",
      "\n",
      "          0       0.91      1.00      0.95        10\n",
      "          1       1.00      0.90      0.95        10\n",
      "\n",
      "avg / total       0.95      0.95      0.95        20\n",
      "\n",
      "Confusion matrix: \n",
      "[[10  0]\n",
      " [ 1  9]]\n"
     ]
    }
   ],
   "source": [
    "predictions = np.squeeze(predictions)\n",
    "map(int, predictions)\n",
    "print(\"Classification report: \")\n",
    "print(classification_report(test_target, predictions))\n",
    "print(\"Confusion matrix: \")\n",
    "print(confusion_matrix(test_target, predictions))"
   ]
  },
  {
   "cell_type": "markdown",
   "metadata": {
    "collapsed": true
   },
   "source": [
    "# Plotting performance of our model by varying parameters"
   ]
  },
  {
   "cell_type": "markdown",
   "metadata": {},
   "source": [
    "### Model 2:"
   ]
  },
  {
   "cell_type": "code",
   "execution_count": 20,
   "metadata": {},
   "outputs": [
    {
     "name": "stdout",
     "output_type": "stream",
     "text": [
      "Cost after epoch 0: 0.655646\n",
      "Cost after epoch 5: 0.524394\n",
      "Cost after epoch 10: 0.424443\n",
      "Cost after epoch 15: 0.348250\n",
      "Cost after epoch 20: 0.283539\n",
      "Cost after epoch 25: 0.226971\n",
      "Cost after epoch 30: 0.176622\n",
      "Cost after epoch 35: 0.130652\n",
      "Cost after epoch 40: 0.091242\n",
      "Cost after epoch 45: 0.060803\n",
      "Parameters have been trained!\n"
     ]
    }
   ],
   "source": [
    "parameters_shape = shape_of_parameters((64, 500), (64, 1), (16, 64), (16, 1), (1, 16), (1, 1))\n",
    "model_cost, parameters = model(parameters_shape, X_train, Y_train)\n",
    "costs[\"model2\"] = model_cost"
   ]
  },
  {
   "cell_type": "markdown",
   "metadata": {},
   "source": [
    "### Model 3:"
   ]
  },
  {
   "cell_type": "code",
   "execution_count": 21,
   "metadata": {},
   "outputs": [
    {
     "name": "stdout",
     "output_type": "stream",
     "text": [
      "Cost after epoch 0: 0.715769\n",
      "Cost after epoch 5: 0.588841\n",
      "Cost after epoch 10: 0.492054\n",
      "Cost after epoch 15: 0.413185\n",
      "Cost after epoch 20: 0.340801\n",
      "Cost after epoch 25: 0.274452\n",
      "Cost after epoch 30: 0.213763\n",
      "Cost after epoch 35: 0.160732\n",
      "Cost after epoch 40: 0.116104\n",
      "Cost after epoch 45: 0.082088\n",
      "Parameters have been trained!\n"
     ]
    }
   ],
   "source": [
    "parameters_shape = shape_of_parameters((32, 500), (32, 1), (16, 32), (16,1), (1, 16), (1, 1))\n",
    "model_cost, parameters = model(parameters_shape, X_train, Y_train)\n",
    "costs[\"model3\"] = model_cost"
   ]
  },
  {
   "cell_type": "code",
   "execution_count": 23,
   "metadata": {},
   "outputs": [
    {
     "data": {
      "image/png": "[encoded data removed]",
      "text/plain": [
       "<matplotlib.figure.Figure at 0x1a24769bda0>"
      ]
     },
     "metadata": {},
     "output_type": "display_data"
    }
   ],
   "source": [
    " # plot the cost\n",
    "plt.plot(np.squeeze(costs[\"model1\"]))\n",
    "plt.plot(np.squeeze(costs[\"model2\"]))\n",
    "plt.plot(np.squeeze(costs[\"model3\"]))\n",
    "plt.ylabel('cost')\n",
    "plt.xlabel('iterations (per tens)')\n",
    "plt.title(\"Learning rate =\" + str(0.001))\n",
    "plt.legend([\"model1\", \"model2\", \"model3\"])\n",
    "plt.show()"
   ]
  },
  {
   "cell_type": "code",
   "execution_count": null,
   "metadata": {
    "collapsed": true
   },
   "outputs": [],
   "source": []
  },
  {
   "cell_type": "code",
   "execution_count": null,
   "metadata": {
    "collapsed": true
   },
   "outputs": [],
   "source": []
  }
 ],
 "metadata": {
  "kernelspec": {
   "display_name": "Python 3",
   "language": "python",
   "name": "python3"
  },
  "language_info": {
   "codemirror_mode": {
    "name": "ipython",
    "version": 3
   },
   "file_extension": ".py",
   "mimetype": "text/x-python",
   "name": "python",
   "nbconvert_exporter": "python",
   "pygments_lexer": "ipython3",
   "version": "3.6.1"
  }
 },
 "nbformat": 4,
 "nbformat_minor": 2
}
